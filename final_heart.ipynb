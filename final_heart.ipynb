{
 "cells": [
  {
   "cell_type": "markdown",
   "id": "3272a2fa-06ac-4c2e-8af2-794186d265f9",
   "metadata": {},
   "source": [
    "# **프로젝트 주제 : 심장질환 예측**"
   ]
  },
  {
   "cell_type": "markdown",
   "id": "aeaad761-0d62-43ce-83e8-fc9671f43148",
   "metadata": {},
   "source": [
    "### **프로젝트 요약** "
   ]
  },
  {
   "cell_type": "markdown",
   "id": "6437cc74-b251-4679-80e8-af3dd528c9fc",
   "metadata": {},
   "source": [
    "**사용 자료**  \n",
    "심장 질환 예측 데이터셋 (Kaggle 제공, 환자 데이터 1025개)  \n",
    "**사용 알고리즘**  \n",
    "랜덤 포레스트(Random Forest) 분류 알고리즘  \n",
    "선정 이유: 높은 예측 성능, 비선형 관계 학습 가능, 과적합 방지 능력  \n",
    "**정확도**  \n",
    "훈련 데이터 정확도: 99.51% , 테스트 데이터 정확도: 97.56%, 재현율(Recall): 95.14%, F1 점수(F1 Score): 97.51%  \n",
    "**목표**  \n",
    "환자의 건강 정보를 기반으로 심장 질환 여부를 예측."
   ]
  },
  {
   "cell_type": "markdown",
   "id": "3bb219a1-51f0-430a-a55c-d7ebc97d4ae9",
   "metadata": {},
   "source": [
    "### **데이터셋 설명** "
   ]
  },
  {
   "cell_type": "markdown",
   "id": "e1e14612-64f8-4e4f-b5ef-42d17ae05355",
   "metadata": {},
   "source": [
    "**데이터셋 : 심장 질환 예측 데이터셋**  \n",
    "https://www.kaggle.com/datasets/johnsmith88/heart-disease-dataset?resource=download\n",
    "\n",
    "**총 데이터 크기**  \n",
    "행은 1025개(환자 수), 열은 14개(특징+타겟변수)\n",
    "\n",
    "**타겟변수**  \n",
    "target은 심장 질환 여부를 나타냄 (머신러닝 모델이 예측하려는 값)  \n",
    "1:심장 질환 있음  \n",
    "0:심장 질환 없음\n",
    "\n",
    "**특징(입력값)**  \n",
    "데이터셋의 각 열은 환자의 건강상태와 관련된 특정 변수  \n",
    "심장 질환 여부를 예측하기 위해 사용되는 환자의 건강 정보\n",
    "데이터셋에서 타겟변수를 예측하는 데 필요한 독립 변수\n",
    "\n",
    "|**변수명**|설명|값의 유형|\r\n",
    "|:---|:---:|---:\n",
    "|age|나이|연속형|||sex|성별|범주형 (1: 남성, 0: 여성)|\n",
    "|cp|흉통 유형|범주형 (0~3)|\n",
    "|trestbps|안정 시 혈압 (단위: mm Hg)|연속형|\n",
    "|chol|혈청 콜레스테롤 수치 (단위: mg/dL)|연속형|\n",
    "|fbs|공복 혈당 > 120 mg/dL 여부|범주형 (1: 참, 0: 거짓)|\n",
    "|thalach|최대 심박수|연속형|\n",
    "|exang|운동 유발 협심증 여부|범주형 (1: 있음, 0: 없음)|\n",
    "|oldpeak|휴식 대비 ST 하강|연속형|\n",
    "|slope|최대 운동 ST 세그먼트의 기울기|범주형 (0: 하강, 1: 평평, 2: 상승)|\n",
    "|ca|형광 투시법으로 관찰된 주요 혈관 수|범주형|\n",
    "|thal|지중해빈혈 여부|범주형|\n",
    "|target|심장 질환 여부 (0: 없음, 1: 있음)|범주형|10|\n",
    "\n",
    "\n",
    "\n",
    "\n"
   ]
  },
  {
   "cell_type": "markdown",
   "id": "576ee296-dc14-4da9-a22b-6bc6ced74ec6",
   "metadata": {},
   "source": [
    "### **필요한 라이브러리 불러오기** "
   ]
  },
  {
   "cell_type": "code",
   "execution_count": 18,
   "id": "ad07133d-8b3e-43ea-a7e4-869f0bd04a03",
   "metadata": {},
   "outputs": [],
   "source": [
    "import pandas as pd #데이터 처리 및 분석을 위한 라이브러리\n",
    "import seaborn as sns #데이터 시각화를 위한 라이브러리(히트맵)\n",
    "import numpy as np\n",
    "import matplotlib.pyplot as plt #데이터 시각화를 위한 가장 기본적인 라이브러리\n",
    "from sklearn.model_selection import train_test_split,cross_val_score #머신러닝 모델을 위한 데이터 분할 도구 (훈련세트와 테스트 세트로 나누는 함수)\n",
    "from sklearn.ensemble import RandomForestClassifier #앙상블 학습을 위한 라이브러리\n",
    "from sklearn.preprocessing import StandardScaler, OneHotEncoder #데이터 전처리를 위한 도구\n",
    "from sklearn.compose import ColumnTransformer #여러 전처리 단계를 하나로 묶기 위한 도구\n",
    "from sklearn.pipeline import Pipeline #전처리와 모델을 연결하는 도구\n",
    "from sklearn.metrics import accuracy_score, precision_score, recall_score, f1_score, roc_auc_score #머신러닝 모델의 성능 평가 도구\n",
    "from sklearn.preprocessing import StandardScaler, OneHotEncoder\n"
   ]
  },
  {
   "cell_type": "markdown",
   "id": "1b825ab7-994d-4ebc-875a-21474caf19c3",
   "metadata": {},
   "source": [
    "### **데이터 로드 및 데이터 확인** "
   ]
  },
  {
   "cell_type": "code",
   "execution_count": 19,
   "id": "94fbe37a-0380-4973-81ed-7114370b52b8",
   "metadata": {},
   "outputs": [
    {
     "name": "stdout",
     "output_type": "stream",
     "text": [
      "Data Overview:\n",
      "   age  sex  cp  trestbps  chol  fbs  restecg  thalach  exang  oldpeak  slope  \\\n",
      "0   52    1   0       125   212    0        1      168      0      1.0      2   \n",
      "1   53    1   0       140   203    1        0      155      1      3.1      0   \n",
      "2   70    1   0       145   174    0        1      125      1      2.6      0   \n",
      "3   61    1   0       148   203    0        1      161      0      0.0      2   \n",
      "4   62    0   0       138   294    1        1      106      0      1.9      1   \n",
      "\n",
      "   ca  thal  target  \n",
      "0   2     3       0  \n",
      "1   0     3       0  \n",
      "2   0     3       0  \n",
      "3   1     3       0  \n",
      "4   3     2       0  \n",
      "\n",
      "Dataset Shape: (1025, 14)\n",
      "\n",
      "Data Info:\n",
      "<class 'pandas.core.frame.DataFrame'>\n",
      "RangeIndex: 1025 entries, 0 to 1024\n",
      "Data columns (total 14 columns):\n",
      " #   Column    Non-Null Count  Dtype  \n",
      "---  ------    --------------  -----  \n",
      " 0   age       1025 non-null   int64  \n",
      " 1   sex       1025 non-null   int64  \n",
      " 2   cp        1025 non-null   int64  \n",
      " 3   trestbps  1025 non-null   int64  \n",
      " 4   chol      1025 non-null   int64  \n",
      " 5   fbs       1025 non-null   int64  \n",
      " 6   restecg   1025 non-null   int64  \n",
      " 7   thalach   1025 non-null   int64  \n",
      " 8   exang     1025 non-null   int64  \n",
      " 9   oldpeak   1025 non-null   float64\n",
      " 10  slope     1025 non-null   int64  \n",
      " 11  ca        1025 non-null   int64  \n",
      " 12  thal      1025 non-null   int64  \n",
      " 13  target    1025 non-null   int64  \n",
      "dtypes: float64(1), int64(13)\n",
      "memory usage: 112.2 KB\n",
      "None\n"
     ]
    }
   ],
   "source": [
    "# 1.데이터 로드\n",
    "# 심장 질환 데이터셋 로드\n",
    "data_path = 'heart.csv'  # 데이터셋 파일 경로\n",
    "data = pd.read_csv(data_path)\n",
    "\n",
    "# 데이터 확인: 데이터의 크기, 변수명, 샘플 확인\n",
    "print(\"Data Overview:\")\n",
    "print(data.head())  # 데이터 상위 5개 샘플 출력\n",
    "print(f\"\\nDataset Shape: {data.shape}\")  # 데이터셋 크기 출력\n",
    "print(\"\\nData Info:\")\n",
    "print(data.info())  # 데이터 타입과 결측치 정보 확인"
   ]
  },
  {
   "cell_type": "markdown",
   "id": "aefc4084-853e-4bac-96a9-5047685c4cc5",
   "metadata": {},
   "source": [
    "### **상관관계 분석** 두 변수 간의 선형적 관계를 나타내는 지표"
   ]
  },
  {
   "cell_type": "markdown",
   "id": "d2b7ef2c-3c20-4fe2-bb20-6717a61172d8",
   "metadata": {},
   "source": [
    "**히트맵**  : 변수 간 상관관계를 색상으로 시각화한 그래프 (색상은 상관계수의 값을 나타냄)  \n",
    "붉은색(빨강): 양의 상관관계가 강함 (값이 1에 가까움)  \n",
    "파란색: 음의 상관관계가 강함 (값이 -1에 가까움)  \n",
    "흰색 또는 중립적인 색상: 상관관계가 약하거나 없음 (값이 0에 가까움)\n",
    "\n"
   ]
  },
  {
   "cell_type": "code",
   "execution_count": 20,
   "id": "5ed3ae74-091d-4599-99ba-82ebb6f7474e",
   "metadata": {},
   "outputs": [
    {
     "data": {
      "image/png": "[encoded data removed]",
      "text/plain": [
       "<Figure size 1000x800 with 2 Axes>"
      ]
     },
     "metadata": {},
     "output_type": "display_data"
    }
   ],
   "source": [
    "# 2. 상관관계 분석\n",
    "# 상관계수 계산 및 시각화\n",
    "corr_matrix = data.corr()  # 모든 변수 간의 상관계수 계산\n",
    "plt.figure(figsize=(10, 8))\n",
    "sns.heatmap(corr_matrix, annot=True, cmap='coolwarm', fmt=\".2f\")  # 히트맵으로 시각화(상관관계를 색상으로 표시해 시각적)\n",
    "plt.title(\"Correlation Matrix\")\n",
    "plt.show()"
   ]
  },
  {
   "cell_type": "markdown",
   "id": "13c77bda-f58d-42af-b33e-753c5c09bd2b",
   "metadata": {},
   "source": [
    "**히트맵의 시각적 해석**  \n",
    "빨강: 타겟 변수(target)과 높은 양의 상관관계를 보이는 변수  \n",
    "예: cp, thalach  \n",
    "파랑: 타겟 변수와 높은 음의 상관관계를 보이는 변수  \n",
    "예: exang, oldpeak  \n",
    "흰색: 상관관계가 낮거나 없는 변수  \n",
    "예: chol, fbs"
   ]
  },
  {
   "cell_type": "code",
   "execution_count": 21,
   "id": "d967483a-52bc-4027-8deb-ffb026537c88",
   "metadata": {},
   "outputs": [
    {
     "name": "stdout",
     "output_type": "stream",
     "text": [
      "\n",
      "Correlation with Target (Heart Disease):\n",
      "target      1.000000\n",
      "cp          0.434854\n",
      "thalach     0.422895\n",
      "slope       0.345512\n",
      "restecg     0.134468\n",
      "fbs        -0.041164\n",
      "chol       -0.099966\n",
      "trestbps   -0.138772\n",
      "age        -0.229324\n",
      "sex        -0.279501\n",
      "thal       -0.337838\n",
      "ca         -0.382085\n",
      "exang      -0.438029\n",
      "oldpeak    -0.438441\n",
      "Name: target, dtype: float64\n"
     ]
    }
   ],
   "source": [
    "# 상관계수 출력: 타겟과 각 변수 간 상관계수 정렬\n",
    "print(\"\\nCorrelation with Target (Heart Disease):\")\n",
    "print(corr_matrix['target'].sort_values(ascending=False))"
   ]
  },
  {
   "cell_type": "markdown",
   "id": "ebf60c76-7524-435d-9794-658de052f89a",
   "metadata": {},
   "source": [
    "**<주요 상관관계 해석>**\n",
    "\n",
    "**높은 양의 상관관계(0.3이상)**  \n",
    "cp (흉통 유형): 상관계수 0.43 → 타겟 변수와 강한 양의 상관관계  \n",
    "thalach (최대 심박수): 상관계수 0.42 → 타겟 변수와 강한 양의 상관관계  \n",
    "slope (ST 세그먼트 기울기): 상관계수 0.35 → 타겟 변수와 양의 상관관계  \n",
    "\n",
    "**낮은 양의 상관관계 (0.1 이상, 0.3 미만):**  \n",
    "restecg (심전도 결과): 상관계수 0.13 → 약한 양의 상관관계\n",
    "\n",
    "**음의 상관관계:**  \n",
    "exang (운동 유발 협심증 여부): 상관계수 -0.43 → 강한 음의 상관관계  \n",
    "oldpeak (휴식 대비 ST 하강): 상관계수 -0.43 → 강한 음의 상관관계  \n",
    "sex (성별): 상관계수 -0.28 → 타겟 변수와 약한 음의 상관관계  \n",
    "\n",
    "**상관관계가 매우 낮거나 없는 변수:**  \n",
    "fbs (공복 혈당): 상관계수 -0.04 → 거의 상관관계가 없음  \n",
    "chol (콜레스테롤): 상관계수 -0.10 → 매우 낮은 상관관계\n",
    "\n"
   ]
  },
  {
   "cell_type": "code",
   "execution_count": 22,
   "id": "2924b04b-c14c-4bf4-92a7-202046b6e8f5",
   "metadata": {},
   "outputs": [],
   "source": [
    "# 3. 입력값(특징) 선택\n",
    "# 상관관계 분석 결과를 바탕으로 선택한 입력값만 사용\n",
    "selected_features = ['age', 'sex', 'cp', 'exang', 'trestbps', 'thalach']\n",
    "X = data[selected_features]  # 입력값\n",
    "y = data['target']  # 출력값 (심장 질환 여부)"
   ]
  },
  {
   "cell_type": "code",
   "execution_count": 23,
   "id": "879248cc-4ee4-4d1a-8dd9-41dbe644c426",
   "metadata": {},
   "outputs": [],
   "source": [
    "# 4. 데이터 분할\n",
    "X_train, X_test, y_train, y_test = train_test_split(X, y, test_size=0.2, random_state=42)\n"
   ]
  },
  {
   "cell_type": "code",
   "execution_count": 25,
   "id": "597a0f10-26c4-46db-8d03-be7c2b54e74b",
   "metadata": {},
   "outputs": [],
   "source": [
    "# 5. 데이터 전처리\n",
    "# 연속형 데이터 스케일링 (StandardScaler)\n",
    "scaler = StandardScaler()\n",
    "X_train_numerical = scaler.fit_transform(X_train[['age', 'trestbps', 'thalach']])\n",
    "X_test_numerical = scaler.transform(X_test[['age', 'trestbps', 'thalach']])\n",
    "\n",
    "# 범주형 데이터 변환 (OneHotEncoder)\n",
    "encoder = OneHotEncoder(sparse_output=False)  # sparse 대신 sparse_output 사용\n",
    "X_train_categorical = encoder.fit_transform(X_train[['sex', 'cp', 'exang']])\n",
    "X_test_categorical = encoder.transform(X_test[['sex', 'cp', 'exang']])\n",
    "\n",
    "# 전처리된 데이터를 결합\n",
    "X_train_processed = np.hstack((X_train_numerical, X_train_categorical))\n",
    "X_test_processed = np.hstack((X_test_numerical, X_test_categorical))\n"
   ]
  },
  {
   "cell_type": "markdown",
   "id": "b91dcff0-47c4-4f69-ba16-679b56e84968",
   "metadata": {},
   "source": [
    "### **사용한 알고리즘 설명** : 랜덤 포레스트(Random Forest)"
   ]
  },
  {
   "cell_type": "markdown",
   "id": "aad30077-39cc-4fee-a51d-b8b244f6d6dc",
   "metadata": {},
   "source": [
    "선정 이유:\n",
    "높은 예측 성능: 비선형 데이터와 복잡한 관계를 효과적으로 학습.\n",
    "과적합 방지: 여러 트리를 사용해 데이터에 과도하게 맞추는 문제를 완화.\n",
    "변수 중요도 계산: 각 특징이 예측에 얼마나 기여했는지 평가 가능.\n",
    "유연성: 연속형 및 범주형 변수를 동시에 처리 가능.\n",
    "매개변수 선택 근거:\n",
    "n_estimators=100: 100개의 트리 사용 (모델 안정성 확보).\n",
    "random_state=42: 재현 가능성을 위해 랜덤 시드 고정."
   ]
  },
  {
   "cell_type": "code",
   "execution_count": 26,
   "id": "56db1dd7-523c-40b7-8091-9ba2b01d36ce",
   "metadata": {},
   "outputs": [],
   "source": [
    "# 6. 랜덤 포레스트 모델 생성\n",
    "# RandomForestClassifier를 사용하여 심장 질환 예측 모델 생성\n",
    "model = RandomForestClassifier(\n",
    "    n_estimators=100,  # 트리 개수\n",
    "    max_depth=10,  # 트리 최대 깊이 제한\n",
    "    min_samples_split=5,  # 최소 샘플 분할 기준\n",
    "    random_state=42\n",
    ")"
   ]
  },
  {
   "cell_type": "code",
   "execution_count": 27,
   "id": "2be650e6-2271-47e3-be66-244f2bf76ec0",
   "metadata": {},
   "outputs": [
    {
     "data": {
      "text/html": [
       "<style>#sk-container-id-1 {color: black;background-color: white;}#sk-container-id-1 pre{padding: 0;}#sk-container-id-1 div.sk-toggleable {background-color: white;}#sk-container-id-1 label.sk-toggleable__label {cursor: pointer;display: block;width: 100%;margin-bottom: 0;padding: 0.3em;box-sizing: border-box;text-align: center;}#sk-container-id-1 label.sk-toggleable__label-arrow:before {content: \"▸\";float: left;margin-right: 0.25em;color: #696969;}#sk-container-id-1 label.sk-toggleable__label-arrow:hover:before {color: black;}#sk-container-id-1 div.sk-estimator:hover label.sk-toggleable__label-arrow:before {color: black;}#sk-container-id-1 div.sk-toggleable__content {max-height: 0;max-width: 0;overflow: hidden;text-align: left;background-color: #f0f8ff;}#sk-container-id-1 div.sk-toggleable__content pre {margin: 0.2em;color: black;border-radius: 0.25em;background-color: #f0f8ff;}#sk-container-id-1 input.sk-toggleable__control:checked~div.sk-toggleable__content {max-height: 200px;max-width: 100%;overflow: auto;}#sk-container-id-1 input.sk-toggleable__control:checked~label.sk-toggleable__label-arrow:before {content: \"▾\";}#sk-container-id-1 div.sk-estimator input.sk-toggleable__control:checked~label.sk-toggleable__label {background-color: #d4ebff;}#sk-container-id-1 div.sk-label input.sk-toggleable__control:checked~label.sk-toggleable__label {background-color: #d4ebff;}#sk-container-id-1 input.sk-hidden--visually {border: 0;clip: rect(1px 1px 1px 1px);clip: rect(1px, 1px, 1px, 1px);height: 1px;margin: -1px;overflow: hidden;padding: 0;position: absolute;width: 1px;}#sk-container-id-1 div.sk-estimator {font-family: monospace;background-color: #f0f8ff;border: 1px dotted black;border-radius: 0.25em;box-sizing: border-box;margin-bottom: 0.5em;}#sk-container-id-1 div.sk-estimator:hover {background-color: #d4ebff;}#sk-container-id-1 div.sk-parallel-item::after {content: \"\";width: 100%;border-bottom: 1px solid gray;flex-grow: 1;}#sk-container-id-1 div.sk-label:hover label.sk-toggleable__label {background-color: #d4ebff;}#sk-container-id-1 div.sk-serial::before {content: \"\";position: absolute;border-left: 1px solid gray;box-sizing: border-box;top: 0;bottom: 0;left: 50%;z-index: 0;}#sk-container-id-1 div.sk-serial {display: flex;flex-direction: column;align-items: center;background-color: white;padding-right: 0.2em;padding-left: 0.2em;position: relative;}#sk-container-id-1 div.sk-item {position: relative;z-index: 1;}#sk-container-id-1 div.sk-parallel {display: flex;align-items: stretch;justify-content: center;background-color: white;position: relative;}#sk-container-id-1 div.sk-item::before, #sk-container-id-1 div.sk-parallel-item::before {content: \"\";position: absolute;border-left: 1px solid gray;box-sizing: border-box;top: 0;bottom: 0;left: 50%;z-index: -1;}#sk-container-id-1 div.sk-parallel-item {display: flex;flex-direction: column;z-index: 1;position: relative;background-color: white;}#sk-container-id-1 div.sk-parallel-item:first-child::after {align-self: flex-end;width: 50%;}#sk-container-id-1 div.sk-parallel-item:last-child::after {align-self: flex-start;width: 50%;}#sk-container-id-1 div.sk-parallel-item:only-child::after {width: 0;}#sk-container-id-1 div.sk-dashed-wrapped {border: 1px dashed gray;margin: 0 0.4em 0.5em 0.4em;box-sizing: border-box;padding-bottom: 0.4em;background-color: white;}#sk-container-id-1 div.sk-label label {font-family: monospace;font-weight: bold;display: inline-block;line-height: 1.2em;}#sk-container-id-1 div.sk-label-container {text-align: center;}#sk-container-id-1 div.sk-container {/* jupyter's `normalize.less` sets `[hidden] { display: none; }` but bootstrap.min.css set `[hidden] { display: none !important; }` so we also need the `!important` here to be able to override the default hidden behavior on the sphinx rendered scikit-learn.org. See: https://github.com/scikit-learn/scikit-learn/issues/21755 */display: inline-block !important;position: relative;}#sk-container-id-1 div.sk-text-repr-fallback {display: none;}</style><div id=\"sk-container-id-1\" class=\"sk-top-container\"><div class=\"sk-text-repr-fallback\"><pre>RandomForestClassifier(max_depth=10, min_samples_split=5, random_state=42)</pre><b>In a Jupyter environment, please rerun this cell to show the HTML representation or trust the notebook. <br />On GitHub, the HTML representation is unable to render, please try loading this page with nbviewer.org.</b></div><div class=\"sk-container\" hidden><div class=\"sk-item\"><div class=\"sk-estimator sk-toggleable\"><input class=\"sk-toggleable__control sk-hidden--visually\" id=\"sk-estimator-id-1\" type=\"checkbox\" checked><label for=\"sk-estimator-id-1\" class=\"sk-toggleable__label sk-toggleable__label-arrow\">RandomForestClassifier</label><div class=\"sk-toggleable__content\"><pre>RandomForestClassifier(max_depth=10, min_samples_split=5, random_state=42)</pre></div></div></div></div></div>"
      ],
      "text/plain": [
       "RandomForestClassifier(max_depth=10, min_samples_split=5, random_state=42)"
      ]
     },
     "execution_count": 27,
     "metadata": {},
     "output_type": "execute_result"
    }
   ],
   "source": [
    "# 7. 모델 학습\n",
    "model.fit(X_train_processed, y_train)"
   ]
  },
  {
   "cell_type": "code",
   "execution_count": 28,
   "id": "cf2e7baa-3f4b-4822-9f7e-02533ccb0c50",
   "metadata": {},
   "outputs": [
    {
     "name": "stdout",
     "output_type": "stream",
     "text": [
      "\n",
      "Cross-Validation Scores: [0.97073171 0.99512195 0.9804878  0.97560976 0.97560976]\n",
      "Mean Cross-Validation Accuracy: 0.9795121951219512\n"
     ]
    }
   ],
   "source": [
    "# 8. 교차 검증 추가\n",
    "cross_val_scores = cross_val_score(model, np.vstack((X_train_processed, X_test_processed)), np.hstack((y_train, y_test)), cv=5, scoring='accuracy')\n",
    "print(\"\\nCross-Validation Scores:\", cross_val_scores)\n",
    "print(\"Mean Cross-Validation Accuracy:\", cross_val_scores.mean())"
   ]
  },
  {
   "cell_type": "code",
   "execution_count": 31,
   "id": "3479c209-2efa-4c40-b7cd-eba2c777c9ae",
   "metadata": {},
   "outputs": [],
   "source": [
    "# 9. 모델 예측\n",
    "y_pred = model.predict(X_test_processed)"
   ]
  },
  {
   "cell_type": "code",
   "execution_count": 32,
   "id": "a13cc291-ea1a-4a68-a48f-a759bd8386b7",
   "metadata": {},
   "outputs": [
    {
     "name": "stdout",
     "output_type": "stream",
     "text": [
      "\n",
      "Training Accuracy: 0.9951219512195122\n",
      "\n",
      "Test Model Performance:\n",
      "Test Accuracy: 0.975609756097561\n",
      "Recall: 0.9514563106796117\n",
      "F1 Score: 0.9751243781094527\n"
     ]
    }
   ],
   "source": [
    "# 10. 모델 평가\n",
    "# 훈련 데이터 정확도 계산\n",
    "train_accuracy = accuracy_score(y_train, model.predict(X_train_processed))\n",
    "print(f\"\\nTraining Accuracy: {train_accuracy}\")  # 훈련 데이터 정확도\n",
    "\n",
    "# 테스트 데이터 성능 계산\n",
    "test_accuracy = accuracy_score(y_test, y_pred)\n",
    "recall = recall_score(y_test, y_pred)\n",
    "f1 = f1_score(y_test, y_pred)\n",
    "\n",
    "# 테스트 데이터 성능 출력\n",
    "print(\"\\nTest Model Performance:\")\n",
    "print(f\"Test Accuracy: {test_accuracy}\")\n",
    "print(f\"Recall: {recall}\")\n",
    "print(f\"F1 Score: {f1}\")\n"
   ]
  },
  {
   "cell_type": "code",
   "execution_count": 34,
   "id": "24840583-49fe-42bf-8510-4cd326afc411",
   "metadata": {},
   "outputs": [
    {
     "name": "stdout",
     "output_type": "stream",
     "text": [
      "\n",
      "다음 정보를 입력해주세요:\n"
     ]
    },
    {
     "name": "stdin",
     "output_type": "stream",
     "text": [
      "나이 (Age):  12\n",
      "성별 (남성: 1, 여성: 0):  1\n",
      "흉통 유형 (0: Typical, 1: Atypical, 2: Non-Anginal, 3: Asymptomatic):  1\n",
      "운동 유발 협심증 여부 (예: 1, 아니오: 0):  1\n",
      "안정 시 혈압 (mm Hg):  123\n",
      "최대 심박수:  12\n"
     ]
    },
    {
     "name": "stdout",
     "output_type": "stream",
     "text": [
      "예측 결과: 환자는 심장 질환이 없을 가능성이 높습니다.\n"
     ]
    }
   ],
   "source": [
    "# 11. 사용자 입력값으로 예측 수행\n",
    "print(\"\\n다음 정보를 입력해주세요:\")\n",
    "\n",
    "# 사용자 입력 받기\n",
    "age = float(input(\"나이 (Age): \"))\n",
    "sex = int(input(\"성별 (남성: 1, 여성: 0): \"))\n",
    "cp = int(input(\"흉통 유형 (0: Typical, 1: Atypical, 2: Non-Anginal, 3: Asymptomatic): \"))\n",
    "exang = int(input(\"운동 유발 협심증 여부 (예: 1, 아니오: 0): \"))\n",
    "trestbps = float(input(\"안정 시 혈압 (mm Hg): \"))\n",
    "thalach = float(input(\"최대 심박수: \"))\n",
    "\n",
    "# 사용자 입력값을 데이터프레임으로 변환 (열 이름 포함)\n",
    "new_input_df = pd.DataFrame({\n",
    "    'age': [age],\n",
    "    'trestbps': [trestbps],\n",
    "    'thalach': [thalach],\n",
    "    'sex': [sex],\n",
    "    'cp': [cp],\n",
    "    'exang': [exang]\n",
    "})\n",
    "\n",
    "# 사용자 입력값 전처리\n",
    "new_input_numerical = scaler.transform(new_input_df[['age', 'trestbps', 'thalach']])\n",
    "new_input_categorical = encoder.transform(new_input_df[['sex', 'cp', 'exang']])\n",
    "new_input_processed = np.hstack((new_input_numerical, new_input_categorical))\n",
    "\n",
    "# 사용자 입력값 예측\n",
    "user_prediction = model.predict(new_input_processed)\n",
    "\n",
    "# 예측 결과 출력\n",
    "if user_prediction[0] == 1:\n",
    "    print(\"예측 결과: 환자는 심장 질환이 있을 가능성이 높습니다.\")\n",
    "else:\n",
    "    print(\"예측 결과: 환자는 심장 질환이 없을 가능성이 높습니다.\")\n"
   ]
  },
  {
   "cell_type": "markdown",
   "id": "0b291710-52ad-4699-9d23-d912e964f5ff",
   "metadata": {},
   "source": [
    "# 챗지피티"
   ]
  },
  {
   "cell_type": "code",
   "execution_count": null,
   "id": "103b7d6b-c24c-4c41-9655-f636cb930b50",
   "metadata": {},
   "outputs": [],
   "source": []
  }
 ],
 "metadata": {
  "kernelspec": {
   "display_name": "Python 3 (ipykernel)",
   "language": "python",
   "name": "python3"
  },
  "language_info": {
   "codemirror_mode": {
    "name": "ipython",
    "version": 3
   },
   "file_extension": ".py",
   "mimetype": "text/x-python",
   "name": "python",
   "nbconvert_exporter": "python",
   "pygments_lexer": "ipython3",
   "version": "3.11.7"
  }
 },
 "nbformat": 4,
 "nbformat_minor": 5
}
